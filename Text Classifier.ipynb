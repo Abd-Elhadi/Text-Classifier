{
 "cells": [
  {
   "cell_type": "markdown",
   "id": "6a7da264",
   "metadata": {},
   "source": [
    "# Project 1: Articles/Posts Topic Classifier"
   ]
  },
  {
   "cell_type": "markdown",
   "id": "5cc5fe87",
   "metadata": {},
   "source": [
    "### IMPORTS"
   ]
  },
  {
   "cell_type": "code",
   "execution_count": 41,
   "id": "bb85de83",
   "metadata": {},
   "outputs": [
    {
     "name": "stderr",
     "output_type": "stream",
     "text": [
      "[nltk_data] Downloading package wordnet to\n",
      "[nltk_data]     C:\\Users\\Abdelhadi\\AppData\\Roaming\\nltk_data...\n",
      "[nltk_data]   Package wordnet is already up-to-date!\n",
      "[nltk_data] Downloading package omw-1.4 to\n",
      "[nltk_data]     C:\\Users\\Abdelhadi\\AppData\\Roaming\\nltk_data...\n",
      "[nltk_data]   Package omw-1.4 is already up-to-date!\n",
      "[nltk_data] Downloading package stopwords to\n",
      "[nltk_data]     C:\\Users\\Abdelhadi\\AppData\\Roaming\\nltk_data...\n",
      "[nltk_data]   Package stopwords is already up-to-date!\n"
     ]
    }
   ],
   "source": [
    "import json # for data\n",
    "import pandas as pd # for data \n",
    "import numpy as np # for data\n",
    "\n",
    "import matplotlib.pyplot as plt # for plotting\n",
    "import seaborn as sns # for plotting\n",
    "\n",
    "import re # preprocessing\n",
    "import nltk # preprocessing\n",
    "from nltk.corpus import stopwords # preprocessing\n",
    "import nltk # preprocessing\n",
    "nltk.download('wordnet') # preprocessing\n",
    "import nltk # preprocessing\n",
    "nltk.download('omw-1.4') # preprocessing\n",
    "nltk.download('stopwords') # preprocessing\n",
    "\n",
    "from sklearn import model_selection # for model"
   ]
  },
  {
   "cell_type": "code",
   "execution_count": 51,
   "id": "ef840cd9",
   "metadata": {},
   "outputs": [
    {
     "data": {
      "text/plain": [
       "{'category': 'CRIME',\n",
       " 'headline': 'There Were 2 Mass Shootings In Texas Last Week, But Only 1 On TV',\n",
       " 'authors': 'Melissa Jeltsen',\n",
       " 'link': 'https://www.huffingtonpost.com/entry/texas-amanda-painter-mass-shooting_us_5b081ab4e4b0802d69caad89',\n",
       " 'short_description': 'She left her husband. He killed their children. Just another day in America.',\n",
       " 'date': '2018-05-26'}"
      ]
     },
     "execution_count": 51,
     "metadata": {},
     "output_type": "execute_result"
    }
   ],
   "source": [
    "dict = []\n",
    "with open('data.json', mode = 'r', errors = 'ignore') as json_file:\n",
    "    for dic in json_file:\n",
    "        dict.append( json.loads(dic) )\n",
    "## print the first one\n",
    "dict[0]"
   ]
  },
  {
   "cell_type": "code",
   "execution_count": 50,
   "id": "2edfdb56",
   "metadata": {},
   "outputs": [
    {
     "data": {
      "text/html": [
       "<div>\n",
       "<style scoped>\n",
       "    .dataframe tbody tr th:only-of-type {\n",
       "        vertical-align: middle;\n",
       "    }\n",
       "\n",
       "    .dataframe tbody tr th {\n",
       "        vertical-align: top;\n",
       "    }\n",
       "\n",
       "    .dataframe thead th {\n",
       "        text-align: right;\n",
       "    }\n",
       "</style>\n",
       "<table border=\"1\" class=\"dataframe\">\n",
       "  <thead>\n",
       "    <tr style=\"text-align: right;\">\n",
       "      <th></th>\n",
       "      <th>category</th>\n",
       "      <th>headline</th>\n",
       "    </tr>\n",
       "  </thead>\n",
       "  <tbody>\n",
       "    <tr>\n",
       "      <th>21479</th>\n",
       "      <td>POLITICS</td>\n",
       "      <td>Senate Intelligence Committee To Investigate W...</td>\n",
       "    </tr>\n",
       "    <tr>\n",
       "      <th>23187</th>\n",
       "      <td>POLITICS</td>\n",
       "      <td>Republicans Keep Trying To Shut Women Down</td>\n",
       "    </tr>\n",
       "    <tr>\n",
       "      <th>22920</th>\n",
       "      <td>POLITICS</td>\n",
       "      <td>News Roundup for June 27, 2017</td>\n",
       "    </tr>\n",
       "    <tr>\n",
       "      <th>64464</th>\n",
       "      <td>POLITICS</td>\n",
       "      <td>DNC Chair Debbie Wasserman Schultz Is Taking A...</td>\n",
       "    </tr>\n",
       "    <tr>\n",
       "      <th>44640</th>\n",
       "      <td>POLITICS</td>\n",
       "      <td>Donald Trump’s Top Staff Make Big Bucks But Do...</td>\n",
       "    </tr>\n",
       "  </tbody>\n",
       "</table>\n",
       "</div>"
      ],
      "text/plain": [
       "       category                                           headline\n",
       "21479  POLITICS  Senate Intelligence Committee To Investigate W...\n",
       "23187  POLITICS         Republicans Keep Trying To Shut Women Down\n",
       "22920  POLITICS                     News Roundup for June 27, 2017\n",
       "64464  POLITICS  DNC Chair Debbie Wasserman Schultz Is Taking A...\n",
       "44640  POLITICS  Donald Trump’s Top Staff Make Big Bucks But Do..."
      ]
     },
     "execution_count": 50,
     "metadata": {},
     "output_type": "execute_result"
    }
   ],
   "source": [
    "## create dtf\n",
    "dataSet = pd.DataFrame(dict)\n",
    "## filter categories\n",
    "dataSet = dataSet[ dataSet[\"category\"].isin(['BUSINESS','POLITICS','SPORTS']) ][[\"category\",\"headline\"]]\n",
    "## print 5 random rows\n",
    "dataSet.sample(5)"
   ]
  },
  {
   "cell_type": "code",
   "execution_count": 52,
   "id": "41308268",
   "metadata": {},
   "outputs": [
    {
     "data": {
      "image/png": "[encoded data removed]",
      "text/plain": [
       "<Figure size 432x288 with 1 Axes>"
      ]
     },
     "metadata": {
      "needs_background": "light"
     },
     "output_type": "display_data"
    }
   ],
   "source": [
    "fig, ax = plt.subplots()\n",
    "fig.suptitle(\"category\", fontsize=12)\n",
    "dataSet[\"category\"].reset_index().groupby(\"category\").count().sort_values(by= \n",
    "       \"index\").plot(kind=\"barh\", legend=False, \n",
    "        ax=ax).grid(axis='x')\n",
    "plt.show()"
   ]
  },
  {
   "cell_type": "code",
   "execution_count": 53,
   "id": "09e61ca2",
   "metadata": {},
   "outputs": [],
   "source": [
    "def processText(text):\n",
    "    ## removing the special characters (\\r & \\n) and punctuations, convert to lowercase, and strip  \n",
    "    text = re.sub(' +', ' ', text)\n",
    "    text = re.sub(r'[^\\w\\s]','',text)\n",
    "    text = text.lower().replace('\\n',' ').replace('\\r','').strip()\n",
    "            \n",
    "    ## Tokenize (convert from string to list)\n",
    "    wordTokens = text.split()\n",
    "    \n",
    "    ## remove Stopwords\n",
    "    stopWords = set(stopwords.words('english')) \n",
    "    filteredSentence = [w for w in wordTokens if not w in stopWords] \n",
    "    filteredSentence = [] \n",
    "    for w in wordTokens: \n",
    "        if w not in stopWords: \n",
    "            filteredSentence.append(w) \n",
    "                \n",
    "    ## Stemming (remove -ing, -ly, ...)\n",
    "    ps = nltk.stem.porter.PorterStemmer()\n",
    "    filteredSentence = [ps.stem(word) for word in filteredSentence]\n",
    "                \n",
    "    ## Lemmatisation (convert the word into root word)\n",
    "    lem = nltk.stem.wordnet.WordNetLemmatizer()\n",
    "    filteredSentence = [lem.lemmatize(word) for word in filteredSentence]\n",
    "            \n",
    "    ## back to string from list\n",
    "    text = \" \".join(filteredSentence)\n",
    "    return text"
   ]
  },
  {
   "cell_type": "code",
   "execution_count": 46,
   "id": "b0c6a63d",
   "metadata": {},
   "outputs": [],
   "source": [
    "stopWords = nltk.corpus.stopwords.words(\"english\")"
   ]
  },
  {
   "cell_type": "code",
   "execution_count": 47,
   "id": "32716ea2",
   "metadata": {},
   "outputs": [
    {
     "data": {
      "text/html": [
       "<div>\n",
       "<style scoped>\n",
       "    .dataframe tbody tr th:only-of-type {\n",
       "        vertical-align: middle;\n",
       "    }\n",
       "\n",
       "    .dataframe tbody tr th {\n",
       "        vertical-align: top;\n",
       "    }\n",
       "\n",
       "    .dataframe thead th {\n",
       "        text-align: right;\n",
       "    }\n",
       "</style>\n",
       "<table border=\"1\" class=\"dataframe\">\n",
       "  <thead>\n",
       "    <tr style=\"text-align: right;\">\n",
       "      <th></th>\n",
       "      <th>category</th>\n",
       "      <th>headline</th>\n",
       "      <th>headline_clean</th>\n",
       "    </tr>\n",
       "  </thead>\n",
       "  <tbody>\n",
       "    <tr>\n",
       "      <th>13</th>\n",
       "      <td>POLITICS</td>\n",
       "      <td>Trump's Crackdown On Immigrant Parents Puts Mo...</td>\n",
       "      <td>trump crackdown immigr parent put kid alreadi ...</td>\n",
       "    </tr>\n",
       "    <tr>\n",
       "      <th>14</th>\n",
       "      <td>POLITICS</td>\n",
       "      <td>'Trump's Son Should Be Concerned': FBI Obtaine...</td>\n",
       "      <td>trump son concern fbi obtain wiretap putin all...</td>\n",
       "    </tr>\n",
       "    <tr>\n",
       "      <th>15</th>\n",
       "      <td>POLITICS</td>\n",
       "      <td>Edward Snowden: There's No One Trump Loves Mor...</td>\n",
       "      <td>edward snowden there one trump love vladimir p...</td>\n",
       "    </tr>\n",
       "    <tr>\n",
       "      <th>16</th>\n",
       "      <td>POLITICS</td>\n",
       "      <td>Booyah: Obama Photographer Hilariously Trolls ...</td>\n",
       "      <td>booyah obama photograph hilari troll trump spi...</td>\n",
       "    </tr>\n",
       "    <tr>\n",
       "      <th>17</th>\n",
       "      <td>POLITICS</td>\n",
       "      <td>Ireland Votes To Repeal Abortion Amendment In ...</td>\n",
       "      <td>ireland vote repeal abort amend landslid refer...</td>\n",
       "    </tr>\n",
       "  </tbody>\n",
       "</table>\n",
       "</div>"
      ],
      "text/plain": [
       "    category                                           headline  \\\n",
       "13  POLITICS  Trump's Crackdown On Immigrant Parents Puts Mo...   \n",
       "14  POLITICS  'Trump's Son Should Be Concerned': FBI Obtaine...   \n",
       "15  POLITICS  Edward Snowden: There's No One Trump Loves Mor...   \n",
       "16  POLITICS  Booyah: Obama Photographer Hilariously Trolls ...   \n",
       "17  POLITICS  Ireland Votes To Repeal Abortion Amendment In ...   \n",
       "\n",
       "                                       headline_clean  \n",
       "13  trump crackdown immigr parent put kid alreadi ...  \n",
       "14  trump son concern fbi obtain wiretap putin all...  \n",
       "15  edward snowden there one trump love vladimir p...  \n",
       "16  booyah obama photograph hilari troll trump spi...  \n",
       "17  ireland vote repeal abort amend landslid refer...  "
      ]
     },
     "execution_count": 47,
     "metadata": {},
     "output_type": "execute_result"
    }
   ],
   "source": [
    "dataSet[\"headline_clean\"] = dtf[\"headline\"].apply(lambda x: process_text(x))\n",
    "dtf.head()"
   ]
  },
  {
   "cell_type": "code",
   "execution_count": 48,
   "id": "e5c81f43",
   "metadata": {},
   "outputs": [],
   "source": [
    "## split dataset\n",
    "dtf_train, dtf_test = model_selection.train_test_split(dtf, test_size = 0.2)\n",
    "## get target\n",
    "y_train = dtf_train[\"category\"].values\n",
    "y_test = dtf_test[\"category\"].values"
   ]
  }
 ],
 "metadata": {
  "kernelspec": {
   "display_name": "Python 3 (ipykernel)",
   "language": "python",
   "name": "python3"
  },
  "language_info": {
   "codemirror_mode": {
    "name": "ipython",
    "version": 3
   },
   "file_extension": ".py",
   "mimetype": "text/x-python",
   "name": "python",
   "nbconvert_exporter": "python",
   "pygments_lexer": "ipython3",
   "version": "3.10.4"
  }
 },
 "nbformat": 4,
 "nbformat_minor": 5
}
