{
 "cells": [
  {
   "cell_type": "markdown",
   "id": "6a7da264",
   "metadata": {},
   "source": [
    "# Project 1: Articles/Posts Topic Classifier"
   ]
  },
  {
   "cell_type": "markdown",
   "id": "5cc5fe87",
   "metadata": {},
   "source": [
    "### IMPORTS"
   ]
  },
  {
   "cell_type": "code",
   "execution_count": 178,
   "id": "bb85de83",
   "metadata": {},
   "outputs": [],
   "source": [
    "import json # for data\n",
    "import pandas as pd # for data \n",
    "import numpy as np # for data\n",
    "\n",
    "import matplotlib.pyplot as plt # for plotting\n",
    "import seaborn as sns # for plotting\n",
    "\n",
    "import re # preprocessing\n",
    "import nltk # preprocessing\n",
    "from nltk.corpus import stopwords # preprocessing\n",
    "import nltk # preprocessing\n",
    "import nltk # preprocessing\n",
    "\n",
    "from sklearn import model_selection # for model\n",
    "\n",
    "import gensim ## for word embedding\n",
    "import gensim.downloader as gensimAPI ## for word embedding\n",
    "from gensim.models import Phrases\n",
    "from gensim.models.phrases import Phraser"
   ]
  },
  {
   "cell_type": "code",
   "execution_count": 179,
   "id": "ef840cd9",
   "metadata": {},
   "outputs": [
    {
     "data": {
      "text/plain": [
       "{'category': 'CRIME',\n",
       " 'headline': 'There Were 2 Mass Shootings In Texas Last Week, But Only 1 On TV',\n",
       " 'authors': 'Melissa Jeltsen',\n",
       " 'link': 'https://www.huffingtonpost.com/entry/texas-amanda-painter-mass-shooting_us_5b081ab4e4b0802d69caad89',\n",
       " 'short_description': 'She left her husband. He killed their children. Just another day in America.',\n",
       " 'date': '2018-05-26'}"
      ]
     },
     "execution_count": 179,
     "metadata": {},
     "output_type": "execute_result"
    }
   ],
   "source": [
    "dict = []\n",
    "with open('data.json', mode = 'r', errors = 'ignore') as json_file:\n",
    "    for dic in json_file:\n",
    "        dict.append( json.loads(dic) )\n",
    "## print the first one\n",
    "dict[0]"
   ]
  },
  {
   "cell_type": "code",
   "execution_count": 196,
   "id": "57bb13b3",
   "metadata": {},
   "outputs": [
    {
     "data": {
      "text/html": [
       "<div>\n",
       "<style scoped>\n",
       "    .dataframe tbody tr th:only-of-type {\n",
       "        vertical-align: middle;\n",
       "    }\n",
       "\n",
       "    .dataframe tbody tr th {\n",
       "        vertical-align: top;\n",
       "    }\n",
       "\n",
       "    .dataframe thead th {\n",
       "        text-align: right;\n",
       "    }\n",
       "</style>\n",
       "<table border=\"1\" class=\"dataframe\">\n",
       "  <thead>\n",
       "    <tr style=\"text-align: right;\">\n",
       "      <th></th>\n",
       "      <th>category</th>\n",
       "      <th>headline</th>\n",
       "    </tr>\n",
       "  </thead>\n",
       "  <tbody>\n",
       "    <tr>\n",
       "      <th>32706</th>\n",
       "      <td>POLITICS</td>\n",
       "      <td>3 Terrifying Reasons For Trump's Latest Rant</td>\n",
       "    </tr>\n",
       "    <tr>\n",
       "      <th>67580</th>\n",
       "      <td>POLITICS</td>\n",
       "      <td>L.A. Prosecutors File Criminal Charges Against...</td>\n",
       "    </tr>\n",
       "    <tr>\n",
       "      <th>14003</th>\n",
       "      <td>POLITICS</td>\n",
       "      <td>'Enemy Combatants' Again?</td>\n",
       "    </tr>\n",
       "    <tr>\n",
       "      <th>73154</th>\n",
       "      <td>TECH</td>\n",
       "      <td>Technology Can't Solve Problems By Itself, Say...</td>\n",
       "    </tr>\n",
       "    <tr>\n",
       "      <th>103549</th>\n",
       "      <td>POLITICS</td>\n",
       "      <td>Photo of Barack Obama's Irish Immigrant 3rd Gr...</td>\n",
       "    </tr>\n",
       "  </tbody>\n",
       "</table>\n",
       "</div>"
      ],
      "text/plain": [
       "        category                                           headline\n",
       "32706   POLITICS       3 Terrifying Reasons For Trump's Latest Rant\n",
       "67580   POLITICS  L.A. Prosecutors File Criminal Charges Against...\n",
       "14003   POLITICS                          'Enemy Combatants' Again?\n",
       "73154       TECH  Technology Can't Solve Problems By Itself, Say...\n",
       "103549  POLITICS  Photo of Barack Obama's Irish Immigrant 3rd Gr..."
      ]
     },
     "execution_count": 196,
     "metadata": {},
     "output_type": "execute_result"
    }
   ],
   "source": [
    "## create dtf\n",
    "dataSet = pd.DataFrame(dict)\n",
    "## filter categories\n",
    "dataSet = dataSet[ dataSet[\"category\"].isin(['ENTERTAINMENT','POLITICS','TECH']) ][[\"category\",\"headline\"]]\n",
    "## print 5 random rows\n",
    "dataSet.sample(5)"
   ]
  },
  {
   "cell_type": "code",
   "execution_count": 197,
   "id": "27fdd361",
   "metadata": {},
   "outputs": [
    {
     "data": {
      "image/png": "[encoded data removed]",
      "text/plain": [
       "<Figure size 432x288 with 1 Axes>"
      ]
     },
     "metadata": {
      "needs_background": "light"
     },
     "output_type": "display_data"
    }
   ],
   "source": [
    "fig, ax = plt.subplots()\n",
    "fig.suptitle(\"category\", fontsize=12)\n",
    "dataSet[\"category\"].reset_index().groupby(\"category\").count().sort_values(by= \n",
    "       \"index\").plot(kind=\"barh\", legend=False, \n",
    "        ax=ax).grid(axis='x')\n",
    "plt.show()"
   ]
  },
  {
   "cell_type": "code",
   "execution_count": 198,
   "id": "d80bcbb9",
   "metadata": {},
   "outputs": [],
   "source": [
    "def processText(text):\n",
    "    ## removing the special characters (\\r & \\n) and punctuations, convert to lowercase, and strip  \n",
    "    text = re.sub(' +', ' ', text)\n",
    "    text = re.sub(r'[^\\w\\s]','',text)\n",
    "    text = text.lower().replace('\\n',' ').replace('\\r','').strip()\n",
    "            \n",
    "    ## Tokenize (convert from string to list)\n",
    "    wordTokens = text.split()\n",
    "    \n",
    "    ## remove Stopwords\n",
    "    stopWords = set(stopwords.words('english')) \n",
    "    filteredSentence = [w for w in wordTokens if not w in stopWords] \n",
    "    filteredSentence = [] \n",
    "    for w in wordTokens: \n",
    "        if w not in stopWords: \n",
    "            filteredSentence.append(w) \n",
    "                \n",
    "    ## Stemming (remove -ing, -ly, ...)\n",
    "    ps = nltk.stem.porter.PorterStemmer()\n",
    "    filteredSentence = [ps.stem(word) for word in filteredSentence]\n",
    "                \n",
    "    ## Lemmatisation (convert the word into root word)\n",
    "    lem = nltk.stem.wordnet.WordNetLemmatizer()\n",
    "    filteredSentence = [lem.lemmatize(word) for word in filteredSentence]\n",
    "            \n",
    "    ## back to string from list\n",
    "    text = \" \".join(filteredSentence)\n",
    "    return text"
   ]
  },
  {
   "cell_type": "code",
   "execution_count": 199,
   "id": "ed2a3207",
   "metadata": {},
   "outputs": [],
   "source": [
    "stopWords = nltk.corpus.stopwords.words(\"english\")"
   ]
  },
  {
   "cell_type": "code",
   "execution_count": 203,
   "id": "06052b46",
   "metadata": {},
   "outputs": [
    {
     "data": {
      "text/html": [
       "<div>\n",
       "<style scoped>\n",
       "    .dataframe tbody tr th:only-of-type {\n",
       "        vertical-align: middle;\n",
       "    }\n",
       "\n",
       "    .dataframe tbody tr th {\n",
       "        vertical-align: top;\n",
       "    }\n",
       "\n",
       "    .dataframe thead th {\n",
       "        text-align: right;\n",
       "    }\n",
       "</style>\n",
       "<table border=\"1\" class=\"dataframe\">\n",
       "  <thead>\n",
       "    <tr style=\"text-align: right;\">\n",
       "      <th></th>\n",
       "      <th>category</th>\n",
       "      <th>headline</th>\n",
       "      <th>headline_clean</th>\n",
       "    </tr>\n",
       "  </thead>\n",
       "  <tbody>\n",
       "    <tr>\n",
       "      <th>1</th>\n",
       "      <td>ENTERTAINMENT</td>\n",
       "      <td>Will Smith Joins Diplo And Nicky Jam For The 2...</td>\n",
       "      <td>smith join diplo nicki jam 2018 world cup offi...</td>\n",
       "    </tr>\n",
       "    <tr>\n",
       "      <th>2</th>\n",
       "      <td>ENTERTAINMENT</td>\n",
       "      <td>Hugh Grant Marries For The First Time At Age 57</td>\n",
       "      <td>hugh grant marri first time age 57</td>\n",
       "    </tr>\n",
       "    <tr>\n",
       "      <th>3</th>\n",
       "      <td>ENTERTAINMENT</td>\n",
       "      <td>Jim Carrey Blasts 'Castrato' Adam Schiff And D...</td>\n",
       "      <td>jim carrey blast castrato adam schiff democrat...</td>\n",
       "    </tr>\n",
       "    <tr>\n",
       "      <th>4</th>\n",
       "      <td>ENTERTAINMENT</td>\n",
       "      <td>Julianna Margulies Uses Donald Trump Poop Bags...</td>\n",
       "      <td>julianna marguli use donald trump poop bag pic...</td>\n",
       "    </tr>\n",
       "    <tr>\n",
       "      <th>5</th>\n",
       "      <td>ENTERTAINMENT</td>\n",
       "      <td>Morgan Freeman 'Devastated' That Sexual Harass...</td>\n",
       "      <td>morgan freeman devast sexual harass claim coul...</td>\n",
       "    </tr>\n",
       "  </tbody>\n",
       "</table>\n",
       "</div>"
      ],
      "text/plain": [
       "        category                                           headline  \\\n",
       "1  ENTERTAINMENT  Will Smith Joins Diplo And Nicky Jam For The 2...   \n",
       "2  ENTERTAINMENT    Hugh Grant Marries For The First Time At Age 57   \n",
       "3  ENTERTAINMENT  Jim Carrey Blasts 'Castrato' Adam Schiff And D...   \n",
       "4  ENTERTAINMENT  Julianna Margulies Uses Donald Trump Poop Bags...   \n",
       "5  ENTERTAINMENT  Morgan Freeman 'Devastated' That Sexual Harass...   \n",
       "\n",
       "                                      headline_clean  \n",
       "1  smith join diplo nicki jam 2018 world cup offi...  \n",
       "2                 hugh grant marri first time age 57  \n",
       "3  jim carrey blast castrato adam schiff democrat...  \n",
       "4  julianna marguli use donald trump poop bag pic...  \n",
       "5  morgan freeman devast sexual harass claim coul...  "
      ]
     },
     "execution_count": 203,
     "metadata": {},
     "output_type": "execute_result"
    }
   ],
   "source": [
    "dataSet[\"headline_clean\"] = dataSet[\"headline\"].apply(lambda x: process_text(x))\n",
    "dataSet.head()"
   ]
  },
  {
   "cell_type": "code",
   "execution_count": 204,
   "id": "ad789524",
   "metadata": {},
   "outputs": [],
   "source": [
    "## split dataset\n",
    "dtf_train, dtf_test = model_selection.train_test_split(dataSet, test_size=0.2)\n",
    "## get target\n",
    "y_train = dtf_train[\"category\"].values\n",
    "y_test = dtf_test[\"category\"].values"
   ]
  },
  {
   "cell_type": "code",
   "execution_count": 205,
   "id": "4f8c67c7",
   "metadata": {},
   "outputs": [],
   "source": [
    "corpus = dtf_train[\"headline_clean\"]\n",
    "\n",
    "# ## create list of lists of unigrams\n",
    "lst_corpus = []\n",
    "for string in corpus:\n",
    "   lst_words = string.split()\n",
    "   lst_grams = [\" \".join(lst_words[i:i+1]) \n",
    "               for i in range(0, len(lst_words), 1)]\n",
    "   lst_corpus.append(lst_grams)\n",
    "\n",
    "biGramPhrases = gensim.models.Phrases(lst_corpus, min_count=5, threshold=50)\n",
    "triGramsPhrases = gensim.models.Phrases(biGramPhrases[lst_corpus], threshold=50)\n",
    "\n",
    "bigram = gensim.models.phrases.Phraser(biGramPhrases)\n",
    "trigram = gensim.models.phrases.Phraser(triGramsPhrases)"
   ]
  },
  {
   "cell_type": "code",
   "execution_count": 206,
   "id": "5cb13a13",
   "metadata": {},
   "outputs": [],
   "source": [
    "## fit w2v\n",
    "# the target size of the word vectors=300\n",
    "# the window=the mean length of text in the corpus (the maximum distance between the current and predicted word within a sentence)\n",
    "# sg=1: the algorithm used, skip-grams in this case\n",
    "nlp = gensim.models.word2vec.Word2Vec(lst_corpus, vector_size=300, window=8, min_count=1, sg=1, workers=30)"
   ]
  },
  {
   "cell_type": "code",
   "execution_count": 152,
   "id": "20db684f",
   "metadata": {},
   "outputs": [],
   "source": [
    "# word = \"data\"\n",
    "# nlp[word].shape"
   ]
  },
  {
   "cell_type": "code",
   "execution_count": 207,
   "id": "e72eb403",
   "metadata": {},
   "outputs": [],
   "source": [
    "## tokenize text\n",
    "tokenizer = kprocessing.text.Tokenizer(lower=True, split=' ', oov_token=\"NaN\", \n",
    "                     filters='!\"#$%&()*+,-./:;<=>?@[\\\\]^_`{|}~\\t\\n')\n",
    "tokenizer.fit_on_texts(lst_corpus)\n",
    "dic_vocabulary = tokenizer.word_index\n",
    "## create sequence\n",
    "lst_text2seq= tokenizer.texts_to_sequences(lst_corpus)\n",
    "## padding sequence\n",
    "X_train = kprocessing.sequence.pad_sequences(lst_text2seq, \n",
    "                    maxlen=15, padding=\"post\", truncating=\"post\")"
   ]
  },
  {
   "cell_type": "code",
   "execution_count": 208,
   "id": "9ef03d5e",
   "metadata": {},
   "outputs": [],
   "source": [
    "corpus = dtf_test[\"headline_clean\"]\n",
    "\n",
    "## create list of n-grams\n",
    "lst_corpus = []\n",
    "for string in corpus:\n",
    "    lst_words = string.split()\n",
    "    lst_grams = [\" \".join(lst_words[i:i+1]) for i in range(0, \n",
    "                 len(lst_words), 1)]\n",
    "    lst_corpus.append(lst_grams)\n",
    "    \n",
    "## detect common bigrams and trigrams using the fitted detectors\n",
    "lst_corpus = list(bigram[lst_corpus])\n",
    "lst_corpus = list(trigram[lst_corpus])\n",
    "## text to sequence with the fitted tokenizer\n",
    "lst_text2seq = tokenizer.texts_to_sequences(lst_corpus)\n",
    "\n",
    "## padding sequence\n",
    "X_test = kprocessing.sequence.pad_sequences(lst_text2seq, maxlen=15,\n",
    "             padding=\"post\", truncating=\"post\")"
   ]
  },
  {
   "cell_type": "code",
   "execution_count": 209,
   "id": "75ee7682",
   "metadata": {},
   "outputs": [],
   "source": [
    "## start the matrix (length of vocabulary x vector size) with all 0s\n",
    "embeddings = np.zeros((len(dic_vocabulary)+1, 300))\n",
    "for word,idx in dic_vocabulary.items():\n",
    "    ## update the row with vector\n",
    "    try:\n",
    "        embeddings[idx] =  nlp[word]\n",
    "    ## if word not in model then skip and the row stays all 0s\n",
    "    except:\n",
    "        pass"
   ]
  },
  {
   "cell_type": "code",
   "execution_count": 210,
   "id": "d7793075",
   "metadata": {},
   "outputs": [
    {
     "name": "stdout",
     "output_type": "stream",
     "text": [
      "dic[word]: 664 |idx\n",
      "embeddings[idx]: (300,) |vector\n"
     ]
    }
   ],
   "source": [
    "word = \"data\"\n",
    "print(\"dic[word]:\", dic_vocabulary[word], \"|idx\")\n",
    "print(\"embeddings[idx]:\", embeddings[dic_vocabulary[word]].shape, \"|vector\")"
   ]
  },
  {
   "cell_type": "code",
   "execution_count": 211,
   "id": "b0637dbd",
   "metadata": {},
   "outputs": [
    {
     "name": "stdout",
     "output_type": "stream",
     "text": [
      "Model: \"model_4\"\n",
      "__________________________________________________________________________________________________\n",
      " Layer (type)                   Output Shape         Param #     Connected to                     \n",
      "==================================================================================================\n",
      " input_5 (InputLayer)           [(None, 15)]         0           []                               \n",
      "                                                                                                  \n",
      " embedding_4 (Embedding)        (None, 15, 300)      5575500     ['input_5[0][0]']                \n",
      "                                                                                                  \n",
      " permute_4 (Permute)            (None, 300, 15)      0           ['embedding_4[0][0]']            \n",
      "                                                                                                  \n",
      " dense_12 (Dense)               (None, 300, 15)      240         ['permute_4[0][0]']              \n",
      "                                                                                                  \n",
      " attention (Permute)            (None, 15, 300)      0           ['dense_12[0][0]']               \n",
      "                                                                                                  \n",
      " multiply_4 (Multiply)          (None, 15, 300)      0           ['embedding_4[0][0]',            \n",
      "                                                                  'attention[0][0]']              \n",
      "                                                                                                  \n",
      " bidirectional_8 (Bidirectional  (None, 15, 30)      37920       ['multiply_4[0][0]']             \n",
      " )                                                                                                \n",
      "                                                                                                  \n",
      " bidirectional_9 (Bidirectional  (None, 30)          5520        ['bidirectional_8[0][0]']        \n",
      " )                                                                                                \n",
      "                                                                                                  \n",
      " dense_13 (Dense)               (None, 64)           1984        ['bidirectional_9[0][0]']        \n",
      "                                                                                                  \n",
      " dense_14 (Dense)               (None, 3)            195         ['dense_13[0][0]']               \n",
      "                                                                                                  \n",
      "==================================================================================================\n",
      "Total params: 5,621,359\n",
      "Trainable params: 45,859\n",
      "Non-trainable params: 5,575,500\n",
      "__________________________________________________________________________________________________\n"
     ]
    }
   ],
   "source": [
    "## code attention layer\n",
    "def attention_layer(inputs, neurons):\n",
    "    x = layers.Permute((2,1))(inputs)\n",
    "    x = layers.Dense(neurons, activation=\"softmax\")(x)\n",
    "    x = layers.Permute((2,1), name=\"attention\")(x)\n",
    "    x = layers.multiply([inputs, x])\n",
    "    return x\n",
    "\n",
    "## input\n",
    "x_in = layers.Input(shape=(15,))\n",
    "## embedding\n",
    "x = layers.Embedding(input_dim=embeddings.shape[0],  \n",
    "                     output_dim=embeddings.shape[1], \n",
    "                     weights=[embeddings],\n",
    "                     input_length=15, trainable=False)(x_in)\n",
    "## apply attention\n",
    "x = attention_layer(x, neurons=15)\n",
    "## 2 layers of bidirectional lstm\n",
    "x = layers.Bidirectional(layers.LSTM(units=15, dropout=0.2, \n",
    "                         return_sequences=True))(x)\n",
    "x = layers.Bidirectional(layers.LSTM(units=15, dropout=0.2))(x)\n",
    "## final dense layers\n",
    "x = layers.Dense(64, activation='relu')(x)\n",
    "y_out = layers.Dense(3, activation='softmax')(x)\n",
    "## compile\n",
    "model = models.Model(x_in, y_out)\n",
    "model.compile(loss='sparse_categorical_crossentropy',\n",
    "              optimizer='adam', metrics=['accuracy'])\n",
    "\n",
    "model.summary()"
   ]
  },
  {
   "cell_type": "code",
   "execution_count": 212,
   "id": "34ecc901",
   "metadata": {},
   "outputs": [
    {
     "data": {
      "image/png": "[encoded data removed]",
      "text/plain": [
       "<Figure size 432x288 with 4 Axes>"
      ]
     },
     "metadata": {
      "needs_background": "light"
     },
     "output_type": "display_data"
    }
   ],
   "source": [
    "## encode y\n",
    "dic_y_mapping = {n:label for n,label in \n",
    "                 enumerate(np.unique(y_train))}\n",
    "inverse_dic = {v:k for k,v in dic_y_mapping.items()}\n",
    "y_train = np.array([inverse_dic[y] for y in y_train])\n",
    "## train\n",
    "training = model.fit(x=X_train, y=y_train, batch_size=256, \n",
    "                     epochs=10, shuffle=True, verbose=0, \n",
    "                     validation_split=0.3)\n",
    "## plot loss and accuracy\n",
    "metrics = [k for k in training.history.keys() if (\"loss\" not in k) and (\"val\" not in k)]\n",
    "fig, ax = plt.subplots(nrows=1, ncols=2, sharey=True)\n",
    "ax[0].set(title=\"Training\")\n",
    "ax11 = ax[0].twinx()\n",
    "ax[0].plot(training.history['loss'], color='black')\n",
    "ax[0].set_xlabel('Epochs')\n",
    "ax[0].set_ylabel('Loss', color='black')\n",
    "for metric in metrics:\n",
    "    ax11.plot(training.history[metric], label=metric)\n",
    "ax11.set_ylabel(\"Score\", color='steelblue')\n",
    "ax11.legend()\n",
    "ax[1].set(title=\"Validation\")\n",
    "ax22 = ax[1].twinx()\n",
    "ax[1].plot(training.history['val_loss'], color='black')\n",
    "ax[1].set_xlabel('Epochs')\n",
    "ax[1].set_ylabel('Loss', color='black')\n",
    "for metric in metrics:\n",
    "     ax22.plot(training.history['val_'+metric], label=metric)\n",
    "ax22.set_ylabel(\"Score\", color=\"steelblue\")\n",
    "plt.show()"
   ]
  },
  {
   "cell_type": "code",
   "execution_count": 213,
   "id": "2c68369f",
   "metadata": {},
   "outputs": [
    {
     "name": "stdout",
     "output_type": "stream",
     "text": [
      "318/318 [==============================] - 3s 6ms/step\n"
     ]
    }
   ],
   "source": [
    "## test\n",
    "predicted_prob = model.predict(X_test)\n",
    "predicted = [dic_y_mapping[np.argmax(pred)] for pred in \n",
    "             predicted_prob]"
   ]
  },
  {
   "cell_type": "code",
   "execution_count": null,
   "id": "c9e34606",
   "metadata": {},
   "outputs": [],
   "source": []
  }
 ],
 "metadata": {
  "kernelspec": {
   "display_name": "Python 3 (ipykernel)",
   "language": "python",
   "name": "python3"
  },
  "language_info": {
   "codemirror_mode": {
    "name": "ipython",
    "version": 3
   },
   "file_extension": ".py",
   "mimetype": "text/x-python",
   "name": "python",
   "nbconvert_exporter": "python",
   "pygments_lexer": "ipython3",
   "version": "3.10.4"
  }
 },
 "nbformat": 4,
 "nbformat_minor": 5
}
